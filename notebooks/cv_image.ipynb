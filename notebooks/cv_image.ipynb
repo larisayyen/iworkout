{
 "cells": [
  {
   "cell_type": "code",
   "execution_count": 1,
   "id": "9e70cbb5",
   "metadata": {},
   "outputs": [],
   "source": [
    "import csv\n",
    "import cv2\n",
    "import numpy as np\n",
    "import os\n",
    "import sys\n",
    "import tqdm\n",
    "\n",
    "from mediapipe.python.solutions import drawing_utils as mp_drawing\n",
    "from mediapipe.python.solutions import pose as mp_pose"
   ]
  },
  {
   "cell_type": "code",
   "execution_count": 5,
   "id": "56f0a1ea",
   "metadata": {},
   "outputs": [
    {
     "name": "stdout",
     "output_type": "stream",
     "text": [
      "/Users/yanyi/code/larisayyen/aiworkout\r\n"
     ]
    }
   ],
   "source": [
    "!pwd"
   ]
  },
  {
   "cell_type": "code",
   "execution_count": 12,
   "id": "37f5029d",
   "metadata": {},
   "outputs": [
    {
     "data": {
      "text/plain": [
       "['deadlift',\n",
       " 'bench',\n",
       " '.DS_Store',\n",
       " 'squat',\n",
       " 'hip bridge',\n",
       " 'pushup',\n",
       " '.ipynb_checkpoints']"
      ]
     },
     "execution_count": 12,
     "metadata": {},
     "output_type": "execute_result"
    }
   ],
   "source": [
    "os.listdir('raw_data/train_img')"
   ]
  },
  {
   "cell_type": "code",
   "execution_count": 13,
   "id": "0aaaba8d",
   "metadata": {},
   "outputs": [],
   "source": [
    "images_in_folder = 'raw_data/train_img'\n",
    "images_out_folder = 'raw_data/train_img'"
   ]
  },
  {
   "cell_type": "code",
   "execution_count": 14,
   "id": "c1b6f423",
   "metadata": {},
   "outputs": [],
   "source": [
    "csv_out_path = 'fitness_poses_csvs_out_basic.csv'"
   ]
  },
  {
   "cell_type": "code",
   "execution_count": 16,
   "id": "d03ad6e3",
   "metadata": {},
   "outputs": [
    {
     "name": "stderr",
     "output_type": "stream",
     "text": [
      "Bootstrapping  bench\n",
      "Bootstrapping  deadlift\n",
      "Bootstrapping  hip bridge\n",
      "Bootstrapping  pushup\n",
      "Bootstrapping  squat\n",
      "  0%|                                                   | 0/192 [00:00<?, ?it/s]INFO: Created TensorFlow Lite XNNPACK delegate for CPU.\n",
      "  9%|███▋                                      | 17/192 [00:03<00:32,  5.33it/s]libpng warning: bKGD: invalid\n",
      "100%|█████████████████████████████████████████| 192/192 [00:37<00:00,  5.16it/s]\n"
     ]
    }
   ],
   "source": [
    "with open(csv_out_path, 'w') as csv_out_file:\n",
    "    csv_out_writer = csv.writer(csv_out_file, delimiter=',', quoting=csv.QUOTE_MINIMAL)\n",
    "    \n",
    "    lndmrks = ['class']\n",
    "    for val in range(1, 34):\n",
    "        lndmrks += [f'x{val}', f'y{val}', f'z{val}', f'v{val}']\n",
    "            \n",
    "    csv_out_writer.writerow(lndmrks)\n",
    "    \n",
    "  # Folder names are used as pose class names.\n",
    "    pose_class_names = sorted([n for n in os.listdir(images_in_folder) if not n.startswith('.')])\n",
    "\n",
    "    for pose_class_name in pose_class_names:\n",
    "        print('Bootstrapping ', pose_class_name, file=sys.stderr)\n",
    "\n",
    "        if not os.path.exists(os.path.join(images_out_folder, pose_class_name)):\n",
    "            os.makedirs(os.path.join(images_out_folder, pose_class_name))\n",
    "\n",
    "        image_names = sorted([\n",
    "            n for n in os.listdir(os.path.join(images_in_folder, pose_class_name))\n",
    "            if not n.startswith('.')])\n",
    "        \n",
    "    for image_name in tqdm.tqdm(image_names, position=0):\n",
    "        input_frame = cv2.imread(os.path.join(images_in_folder, pose_class_name, image_name))\n",
    "        input_frame = cv2.cvtColor(input_frame, cv2.COLOR_BGR2RGB)\n",
    "\n",
    "      # Initialize fresh pose tracker and run it.\n",
    "        with mp_pose.Pose() as pose_tracker:\n",
    "            result = pose_tracker.process(image=input_frame)\n",
    "            pose_landmarks = result.pose_landmarks\n",
    "          \n",
    "      # Save image with pose prediction (if pose was detected).\n",
    "        output_frame = input_frame.copy()\n",
    "        \n",
    "        if pose_landmarks is not None:\n",
    "            mp_drawing.draw_landmarks(\n",
    "                image=output_frame,\n",
    "                landmark_list=pose_landmarks,\n",
    "                connections=mp_pose.POSE_CONNECTIONS)\n",
    "        \n",
    "        output_frame = cv2.cvtColor(output_frame, cv2.COLOR_RGB2BGR)\n",
    "        cv2.imwrite(os.path.join(images_out_folder, image_name), output_frame)\n",
    "      \n",
    "      # Save landmarks.\n",
    "        if pose_landmarks is not None:\n",
    "        # Check the number of landmarks and take pose landmarks.\n",
    "            assert len(pose_landmarks.landmark) == 33, 'Unexpected number of predicted pose landmarks: {}'.format(len(pose_landmarks.landmark))    \n",
    "            pose_landmarks = [[lmk.x, lmk.y, lmk.z] for lmk in pose_landmarks.landmark]\n",
    "\n",
    "        # Map pose landmarks from [0, 1] range to absolute coordinates to get\n",
    "        # correct aspect ratio.\n",
    "            frame_height, frame_width = output_frame.shape[:2]\n",
    "            pose_landmarks *= np.array([frame_width, frame_height, frame_width])\n",
    "\n",
    "        # Write pose sample to CSV.\n",
    "            pose_landmarks = np.around(pose_landmarks, 5).flatten().astype(np.str).tolist()\n",
    "            csv_out_writer.writerow([image_name, pose_class_name] + pose_landmarks)\n",
    "\n"
   ]
  },
  {
   "cell_type": "code",
   "execution_count": null,
   "id": "9e73ca61",
   "metadata": {},
   "outputs": [],
   "source": []
  },
  {
   "cell_type": "code",
   "execution_count": null,
   "id": "fad4e4c7",
   "metadata": {},
   "outputs": [],
   "source": []
  },
  {
   "cell_type": "code",
   "execution_count": null,
   "id": "eeb1b7c0",
   "metadata": {},
   "outputs": [],
   "source": []
  }
 ],
 "metadata": {
  "kernelspec": {
   "display_name": "Python 3 (ipykernel)",
   "language": "python",
   "name": "python3"
  },
  "language_info": {
   "codemirror_mode": {
    "name": "ipython",
    "version": 3
   },
   "file_extension": ".py",
   "mimetype": "text/x-python",
   "name": "python",
   "nbconvert_exporter": "python",
   "pygments_lexer": "ipython3",
   "version": "3.8.12"
  },
  "toc": {
   "base_numbering": 1,
   "nav_menu": {},
   "number_sections": true,
   "sideBar": true,
   "skip_h1_title": false,
   "title_cell": "Table of Contents",
   "title_sidebar": "Contents",
   "toc_cell": false,
   "toc_position": {},
   "toc_section_display": true,
   "toc_window_display": false
  }
 },
 "nbformat": 4,
 "nbformat_minor": 5
}
